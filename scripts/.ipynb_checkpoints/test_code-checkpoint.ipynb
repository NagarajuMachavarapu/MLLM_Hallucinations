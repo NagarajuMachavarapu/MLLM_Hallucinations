{
 "cells": [
  {
   "cell_type": "code",
   "execution_count": 15,
   "id": "6aafb24d-513e-4437-afa1-ce1e68a42b68",
   "metadata": {},
   "outputs": [],
   "source": [
    "import json\n",
    "\n",
    "SCENES_FILE_PATH = '../../CLEVR_v1.0/scenes/CLEVR_val_scenes.json'\n",
    "\n",
    "def splitByNumberOfObjects(scenes):\n",
    "    file_pointers = []\n",
    "    for i in range(1,11):\n",
    "        file = open(f'../../CLEVR_v1.0/datasetSplits/{scenes[\"info\"][\"split\"]}_images_objectsNum{i}.txt', 'w')\n",
    "        file_pointers.append(file)\n",
    "\n",
    "    for i in range(15000):\n",
    "        objectsNumber = len(scenes['scenes'][i]['objects'])\n",
    "        file_pointers[objectsNumber-1].write(f'{scenes[\"scenes\"][i][\"image_filename\"]}\\n')\n",
    "\n",
    "\n",
    "def splitByInterIntraObjects(scenes):\n",
    "    inter_fp = open(f'../../CLEVR_v1.0/datasetSplits/{scenes[\"info\"][\"split\"]}_images_inter.txt', 'w')\n",
    "    intra_fp = open(f'../../CLEVR_v1.0/datasetSplits/{scenes[\"info\"][\"split\"]}_images_intra.txt', 'w')\n",
    "\n",
    "    for i in range(15000):\n",
    "        objectsList = scenes['scenes'][i]['objects']\n",
    "        objectSet = set()\n",
    "\n",
    "        for obj in objectsList:\n",
    "            objectSet.add(obj['shape'])\n",
    "\n",
    "        if (len(objectSet) > 1):\n",
    "            inter_fp.write(f'{scenes[\"scenes\"][i][\"image_filename\"]}\\n')\n",
    "        else:\n",
    "            intra_fp.write(f'{scenes[\"scenes\"][i][\"image_filename\"]}\\n')"
   ]
  },
  {
   "cell_type": "code",
   "execution_count": 16,
   "id": "73203cfb-0fb7-49dc-929c-39621c84e597",
   "metadata": {},
   "outputs": [],
   "source": [
    "with open(SCENES_FILE_PATH, 'r') as file:\n",
    "    scenes  = json.load(file)\n",
    "\n",
    "    splitByNumberOfObjects(scenes)\n",
    "    splitByInterIntraObjects(scenes)"
   ]
  },
  {
   "cell_type": "code",
   "execution_count": 25,
   "id": "bc19398f-9582-484a-8e1a-11c63a936cb8",
   "metadata": {},
   "outputs": [
    {
     "name": "stdout",
     "output_type": "stream",
     "text": [
      "dict_keys(['info', 'questions'])\n"
     ]
    }
   ],
   "source": [
    "file = open('/scratch/nmachav1/CLEVR_v1.0/questions/CLEVR_val_questions.json', 'r')\n",
    "qs  = json.load(file)\n",
    "\n",
    "print(qs.keys())"
   ]
  },
  {
   "cell_type": "code",
   "execution_count": 34,
   "id": "8f9793f3-8a3e-4a9e-bd5f-a3b02501d2c0",
   "metadata": {},
   "outputs": [
    {
     "name": "stdout",
     "output_type": "stream",
     "text": [
      "{'image_index': 3, 'program': [{'inputs': [], 'function': 'scene', 'value_inputs': []}, {'inputs': [0], 'function': 'filter_size', 'value_inputs': ['small']}, {'inputs': [1], 'function': 'filter_material', 'value_inputs': ['metal']}, {'inputs': [2], 'function': 'unique', 'value_inputs': []}, {'inputs': [], 'function': 'scene', 'value_inputs': []}, {'inputs': [4], 'function': 'filter_material', 'value_inputs': ['rubber']}, {'inputs': [5], 'function': 'filter_shape', 'value_inputs': ['cylinder']}, {'inputs': [6], 'function': 'unique', 'value_inputs': []}, {'inputs': [3], 'function': 'query_color', 'value_inputs': []}, {'inputs': [7], 'function': 'query_color', 'value_inputs': []}, {'inputs': [8, 9], 'function': 'equal_color', 'value_inputs': []}], 'question_index': 30, 'image_filename': 'CLEVR_val_000003.png', 'question_family_index': 10, 'split': 'val', 'answer': 'yes', 'question': 'Do the small shiny object and the matte cylinder have the same color?'}\n"
     ]
    }
   ],
   "source": [
    "print(qs['questions'][30])"
   ]
  },
  {
   "cell_type": "code",
   "execution_count": 35,
   "id": "459b9a26-ffd4-4f2c-a3f5-3c4a913fde73",
   "metadata": {},
   "outputs": [
    {
     "name": "stdout",
     "output_type": "stream",
     "text": [
      "149991\n"
     ]
    }
   ],
   "source": [
    "print(len(qs['questions']))"
   ]
  },
  {
   "cell_type": "code",
   "execution_count": 3,
   "id": "3cfd9d50-3d54-4dd4-aa2d-ccaa63d486dc",
   "metadata": {},
   "outputs": [
    {
     "name": "stdout",
     "output_type": "stream",
     "text": [
      "Tue Nov  7 22:46:16 2023       \n",
      "+-----------------------------------------------------------------------------+\n",
      "| NVIDIA-SMI 520.61.05    Driver Version: 520.61.05    CUDA Version: 11.8     |\n",
      "|-------------------------------+----------------------+----------------------+\n",
      "| GPU  Name        Persistence-M| Bus-Id        Disp.A | Volatile Uncorr. ECC |\n",
      "| Fan  Temp  Perf  Pwr:Usage/Cap|         Memory-Usage | GPU-Util  Compute M. |\n",
      "|                               |                      |               MIG M. |\n",
      "|===============================+======================+======================|\n",
      "|   0  NVIDIA A100-SXM...  On   | 00000000:01:00.0 Off |                    0 |\n",
      "| N/A   31C    P0    71W / 500W |  34949MiB / 81920MiB |      0%      Default |\n",
      "|                               |                      |             Disabled |\n",
      "+-------------------------------+----------------------+----------------------+\n",
      "                                                                               \n",
      "+-----------------------------------------------------------------------------+\n",
      "| Processes:                                                                  |\n",
      "|  GPU   GI   CI        PID   Type   Process name                  GPU Memory |\n",
      "|        ID   ID                                                   Usage      |\n",
      "|=============================================================================|\n",
      "|    0   N/A  N/A   2240515      C   ...orch-gpu-2.0.1/bin/python    34946MiB |\n",
      "+-----------------------------------------------------------------------------+\n"
     ]
    }
   ],
   "source": [
    "!nvidia-smi"
   ]
  },
  {
   "cell_type": "code",
   "execution_count": 1,
   "id": "f8c11270-2cf0-4eaf-89ac-fb78e70685fa",
   "metadata": {},
   "outputs": [],
   "source": [
    "# !top"
   ]
  },
  {
   "cell_type": "code",
   "execution_count": null,
   "id": "5b8c0f6a-8a06-4042-a409-1e2f44b16ba0",
   "metadata": {},
   "outputs": [],
   "source": []
  }
 ],
 "metadata": {
  "kernelspec": {
   "display_name": "Python 3",
   "language": "python",
   "name": "python3"
  },
  "language_info": {
   "codemirror_mode": {
    "name": "ipython",
    "version": 3
   },
   "file_extension": ".py",
   "mimetype": "text/x-python",
   "name": "python",
   "nbconvert_exporter": "python",
   "pygments_lexer": "ipython3",
   "version": "3.11.6"
  }
 },
 "nbformat": 4,
 "nbformat_minor": 5
}
