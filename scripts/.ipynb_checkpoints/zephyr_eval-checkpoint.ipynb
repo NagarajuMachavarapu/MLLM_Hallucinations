{
 "cells": [
  {
   "cell_type": "code",
   "execution_count": 1,
   "id": "e6158070-6d68-45ae-aa1b-4607db7b6267",
   "metadata": {},
   "outputs": [],
   "source": [
    "import json\n",
    "from tqdm import tqdm\n",
    "import os\n",
    "import glob\n",
    "\n",
    "import torch"
   ]
  },
  {
   "cell_type": "code",
   "execution_count": 2,
   "id": "c28f45c2-128f-4998-9401-98afb5c79a54",
   "metadata": {},
   "outputs": [
    {
     "data": {
      "application/vnd.jupyter.widget-view+json": {
       "model_id": "0ac7b45094424ccfb9c05ef1f864a321",
       "version_major": 2,
       "version_minor": 0
      },
      "text/plain": [
       "Downloading config.json:   0%|          | 0.00/638 [00:00<?, ?B/s]"
      ]
     },
     "metadata": {},
     "output_type": "display_data"
    },
    {
     "data": {
      "application/vnd.jupyter.widget-view+json": {
       "model_id": "ee752da4c65e42da9cb26ad787e3570a",
       "version_major": 2,
       "version_minor": 0
      },
      "text/plain": [
       "Downloading shards:   0%|          | 0/8 [00:00<?, ?it/s]"
      ]
     },
     "metadata": {},
     "output_type": "display_data"
    },
    {
     "data": {
      "application/vnd.jupyter.widget-view+json": {
       "model_id": "faeb851699624e0a93d4c037da5c1101",
       "version_major": 2,
       "version_minor": 0
      },
      "text/plain": [
       "Loading checkpoint shards:   0%|          | 0/8 [00:00<?, ?it/s]"
      ]
     },
     "metadata": {},
     "output_type": "display_data"
    },
    {
     "data": {
      "application/vnd.jupyter.widget-view+json": {
       "model_id": "a7fe8536a0224e0386eca5bdd625d360",
       "version_major": 2,
       "version_minor": 0
      },
      "text/plain": [
       "Downloading generation_config.json:   0%|          | 0.00/111 [00:00<?, ?B/s]"
      ]
     },
     "metadata": {},
     "output_type": "display_data"
    }
   ],
   "source": [
    "from transformers import AutoTokenizer, AutoModelForCausalLM\n",
    "\n",
    "tokenizer = AutoTokenizer.from_pretrained(\"HuggingFaceH4/zephyr-7b-beta\")\n",
    "model = AutoModelForCausalLM.from_pretrained(\"HuggingFaceH4/zephyr-7b-beta\")\n",
    "device = \"cuda\"\n",
    "model.to(device)\n",
    "\n",
    "question_structure = \"I will use you as an evaluator. I will give you ground truth, and a model generated answer. I want you to tell me if the ground truth and model generated answer are consistent.\""
   ]
  },
  {
   "cell_type": "code",
   "execution_count": 3,
   "id": "138db4f0-22a1-4125-b76a-3279e4cd3acf",
   "metadata": {},
   "outputs": [],
   "source": [
    "def performEvaluation(path):\n",
    "    file = open(path, 'r')\n",
    "    qa_list = json.load(file)\n",
    "    print(len(qa_list))\n",
    "    promptList = []\n",
    "\n",
    "    for qa in qa_list:\n",
    "        prompt = f\"\"\"{question_structure}\n",
    "            Ground truth: {qa['Ground truth']}\n",
    "            Model generated answer: {qa['Model generated answer']}\n",
    "            Consistent:\"\"\"   \n",
    "        promptList.append(prompt)\n",
    "        \n",
    "    return evalZephyr(promptList)\n",
    "    "
   ]
  },
  {
   "cell_type": "code",
   "execution_count": 4,
   "id": "df1d4a99-4984-4146-872b-1329b124ba39",
   "metadata": {},
   "outputs": [],
   "source": [
    "def evalZephyr(promptList):\n",
    "    evals = []\n",
    "    \n",
    "    batch_size = 128\n",
    "    batches = [promptList[i:i+batch_size] for i in range(0, len(promptList), batch_size)]\n",
    "    for batch in tqdm(batches):\n",
    "        model_inputs = tokenizer(batch, return_tensors=\"pt\", padding=True).to(device)\n",
    "        \n",
    "    \n",
    "        generated_ids = model.generate(\n",
    "        # seed = 42,\n",
    "        **model_inputs, \n",
    "        max_new_tokens=3,\n",
    "        do_sample = False,\n",
    "        min_length = None,\n",
    "        use_cache = True,\n",
    "        top_p = 1.0,\n",
    "        temperature = 1e-05,\n",
    "        top_k = 50,\n",
    "        repetition_penalty = 1.0,\n",
    "        length_penalty = 1,\n",
    "        max_padding_length = None)\n",
    "    \n",
    "        evals += tokenizer.batch_decode(generated_ids, skip_special_tokens=True, clean_up_tokenization_spaces=False)\n",
    "        # torch.cuda.empty_cache() \n",
    "    print(len(evals))\n",
    "    return evals"
   ]
  },
  {
   "cell_type": "code",
   "execution_count": null,
   "id": "8e98021c-9b82-44ed-87cf-808a817f7808",
   "metadata": {},
   "outputs": [
    {
     "name": "stdout",
     "output_type": "stream",
     "text": [
      "9992\n"
     ]
    },
    {
     "name": "stderr",
     "output_type": "stream",
     "text": [
      "  0%|          | 0/79 [00:00<?, ?it/s]/home/averma90/.local/lib/python3.11/site-packages/transformers/generation/utils.py:1421: UserWarning: You have modified the pretrained model configuration to control generation. This is a deprecated strategy to control generation and will be removed soon, in a future version. Please use and modify the model generation configuration (see https://huggingface.co/docs/transformers/generation_strategies#default-text-generation-configuration )\n",
      "  warnings.warn(\n",
      "/home/averma90/.local/lib/python3.11/site-packages/transformers/generation/configuration_utils.py:362: UserWarning: `do_sample` is set to `False`. However, `temperature` is set to `1e-05` -- this flag is only used in sample-based generation modes. You should set `do_sample=True` or unset `temperature`.\n",
      "  warnings.warn(\n",
      "100%|██████████| 79/79 [41:57<00:00, 31.87s/it]\n"
     ]
    },
    {
     "name": "stdout",
     "output_type": "stream",
     "text": [
      "9992\n",
      "10000\n"
     ]
    },
    {
     "name": "stderr",
     "output_type": "stream",
     "text": [
      "100%|██████████| 79/79 [41:56<00:00, 31.85s/it]\n"
     ]
    },
    {
     "name": "stdout",
     "output_type": "stream",
     "text": [
      "10000\n",
      "10000\n"
     ]
    },
    {
     "name": "stderr",
     "output_type": "stream",
     "text": [
      " 65%|██████▍   | 51/79 [27:23<15:06, 32.37s/it]"
     ]
    }
   ],
   "source": [
    "QA_PATH = '/home/averma90/CSE576/github/MLLM_Hallucinations/CLEVR_v1/answers/val/num_objects_based_difficulty_vanilla'\n",
    "SAVE_FOLDER = '/home/averma90/CSE576/github/MLLM_Hallucinations/CLEVR_v1/eval/val/num_objects_based_difficulty_vanilla'\n",
    "\n",
    "files = glob.glob(os.path.join(QA_PATH, '*.json'), recursive=True)\n",
    "\n",
    "for file in files:\n",
    "    evals = performEvaluation(file)\n",
    "\n",
    "    with open(os.path.join(SAVE_FOLDER, file.split(\"/\")[-1]), 'w') as file:\n",
    "        json.dump(evals, file)"
   ]
  },
  {
   "cell_type": "code",
   "execution_count": null,
   "id": "5699e1c4-5a46-4302-bcc3-85f984479e30",
   "metadata": {},
   "outputs": [],
   "source": []
  },
  {
   "cell_type": "code",
   "execution_count": null,
   "id": "d8eafdca-4b75-4440-879a-7d603250196f",
   "metadata": {},
   "outputs": [],
   "source": []
  }
 ],
 "metadata": {
  "kernelspec": {
   "display_name": "pytorch-gpu-2.0.1",
   "language": "python",
   "name": "pytorch-gpu-2.0.1"
  },
  "language_info": {
   "codemirror_mode": {
    "name": "ipython",
    "version": 3
   },
   "file_extension": ".py",
   "mimetype": "text/x-python",
   "name": "python",
   "nbconvert_exporter": "python",
   "pygments_lexer": "ipython3",
   "version": "3.11.5"
  }
 },
 "nbformat": 4,
 "nbformat_minor": 5
}
