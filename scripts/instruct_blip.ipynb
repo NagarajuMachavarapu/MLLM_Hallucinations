{
 "cells": [
  {
   "cell_type": "code",
   "execution_count": 1,
   "metadata": {},
   "outputs": [],
   "source": [
    "import torch\n",
    "import json\n",
    "from PIL import Image\n",
    "import requests\n",
    "from tqdm import tqdm\n",
    "from transformers import InstructBlipProcessor, InstructBlipForConditionalGeneration"
   ]
  },
  {
   "cell_type": "code",
   "execution_count": 2,
   "metadata": {},
   "outputs": [
    {
     "data": {
      "application/vnd.jupyter.widget-view+json": {
       "model_id": "e8fde613dcd34a9c90cf5093409e03ff",
       "version_major": 2,
       "version_minor": 0
      },
      "text/plain": [
       "Loading checkpoint shards:   0%|          | 0/4 [00:00<?, ?it/s]"
      ]
     },
     "metadata": {},
     "output_type": "display_data"
    }
   ],
   "source": [
    "model = InstructBlipForConditionalGeneration.from_pretrained(\"Salesforce/instructblip-vicuna-7b\")"
   ]
  },
  {
   "cell_type": "code",
   "execution_count": 3,
   "metadata": {},
   "outputs": [
    {
     "name": "stdout",
     "output_type": "stream",
     "text": [
      "cuda\n"
     ]
    }
   ],
   "source": [
    "device = \"cuda\" if torch.cuda.is_available() else \"cpu\"\n",
    "model.to(device)\n",
    "print(device)"
   ]
  },
  {
   "cell_type": "code",
   "execution_count": 4,
   "metadata": {},
   "outputs": [],
   "source": [
    "processor = InstructBlipProcessor.from_pretrained(\"Salesforce/instructblip-vicuna-7b\")"
   ]
  },
  {
   "cell_type": "code",
   "execution_count": 5,
   "metadata": {},
   "outputs": [],
   "source": [
    "imagesPath = \"/scratch/averma90/CLEVR_v1.0/images/val/\"\n",
    "quesPath = \"/home/averma90/CSE576/github/CLEVR_v1.0/questions/CLEVR_val_questions.json\"\n",
    "\n",
    "jsonFile = open(quesPath, 'r')\n",
    "questions  = json.load(jsonFile)"
   ]
  },
  {
   "cell_type": "code",
   "execution_count": 7,
   "metadata": {},
   "outputs": [
    {
     "name": "stderr",
     "output_type": "stream",
     "text": [
      "0it [00:00, ?it/s]\n",
      "0it [00:00, ?it/s]\n",
      "100%|██████████| 100/100 [23:19<00:00, 14.00s/it]\n",
      "100%|██████████| 100/100 [20:38<00:00, 12.38s/it]\n",
      "100%|██████████| 100/100 [20:35<00:00, 12.35s/it]\n",
      "100%|██████████| 100/100 [21:10<00:00, 12.71s/it]\n",
      "100%|██████████| 100/100 [20:21<00:00, 12.22s/it]\n",
      "100%|██████████| 100/100 [18:04<00:00, 10.84s/it]\n",
      "100%|██████████| 100/100 [21:03<00:00, 12.64s/it]\n",
      "100%|██████████| 100/100 [19:55<00:00, 11.96s/it]\n"
     ]
    }
   ],
   "source": [
    "# for i in range(1,11):\n",
    "    img_file = open(f\"/home/averma90/CSE576/github/MLLM_Hallucinations/CLEVR_v1/datasetSplits/val_images_objectsNum{i}.txt\", \"r\") \n",
    "    img_names = img_file.readlines()\n",
    "    \n",
    "    ansFile = open(f\"/home/averma90/CSE576/github/CLEVR_v1.0/answers/val/num_{i}.txt\", \"a\")\n",
    "    \n",
    "    for img_name in tqdm(img_names[:100]):\n",
    "        image_ques = []\n",
    "        image_ans = []\n",
    "        count = 0\n",
    "        img = Image.open(imagesPath+img_name[:-1]).convert(\"RGB\")\n",
    "        for q in questions[\"questions\"]:\n",
    "            if q[\"image_filename\"] == img_name[:-1]:\n",
    "                image_ques.append(q[\"question\"])\n",
    "                image_ans.append(q[\"answer\"])\n",
    "        for iqs in image_ques:\n",
    "            prompt=iqs\n",
    "            inputs = processor(images=img, text=prompt, return_tensors=\"pt\").to(device)\n",
    "            outputs = model.generate(\n",
    "                **inputs,\n",
    "                do_sample=False,\n",
    "                num_beams=5,\n",
    "                max_length=256,\n",
    "                min_length=1,\n",
    "                top_p=0.9,\n",
    "                repetition_penalty=1.5,\n",
    "                length_penalty=1.0,\n",
    "                temperature=1,\n",
    "            )\n",
    "            generated_text = processor.batch_decode(outputs, skip_special_tokens=True)[0].strip()\n",
    "            # print(generated_text)\n",
    "            ansFile.write(f\"{prompt} Answer: {image_ans[count]}. Output: {generated_text}\\n\")\n",
    "            # ansFile.write(prompt +\" \" + image_ans[count] + \": \" + generated_text+\"\\n\")\n",
    "            count+=1\n",
    "    ansFile.close()"
   ]
  },
  {
   "cell_type": "code",
   "execution_count": 6,
   "metadata": {},
   "outputs": [
    {
     "name": "stderr",
     "output_type": "stream",
     "text": [
      "  0%|          | 0/315 [00:00<?, ?it/s]/home/averma90/.local/lib/python3.11/site-packages/transformers/generation/configuration_utils.py:367: UserWarning: `do_sample` is set to `False`. However, `top_p` is set to `0.9` -- this flag is only used in sample-based generation modes. You should set `do_sample=True` or unset `top_p`.\n",
      "  warnings.warn(\n",
      "100%|██████████| 315/315 [1:04:35<00:00, 12.30s/it]\n"
     ]
    }
   ],
   "source": [
    "# for objects_type in ['inter', 'intra']:\n",
    "for objects_type in ['intra']:\n",
    "    img_file = open(f\"/home/averma90/CSE576/github/MLLM_Hallucinations/CLEVR_v1/datasetSplits/val_images_{objects_type}.txt\", \"r\") \n",
    "    img_names = img_file.readlines()\n",
    "    \n",
    "    ansFile = open(f\"/home/averma90/CSE576/github/CLEVR_v1.0/answers/val/type_{objects_type}.txt\", \"a\")\n",
    "    \n",
    "    for img_name in tqdm(img_names[:315]):\n",
    "        image_ques = []\n",
    "        image_ans = []\n",
    "        count = 0\n",
    "        img = Image.open(imagesPath+img_name[:-1]).convert(\"RGB\")\n",
    "        for q in questions[\"questions\"]:\n",
    "            if q[\"image_filename\"] == img_name[:-1]:\n",
    "                image_ques.append(q[\"question\"])\n",
    "                image_ans.append(q[\"answer\"])\n",
    "        for iqs in image_ques:\n",
    "            prompt=iqs\n",
    "            inputs = processor(images=img, text=prompt, return_tensors=\"pt\").to(device)\n",
    "            outputs = model.generate(\n",
    "                **inputs,\n",
    "                do_sample=False,\n",
    "                num_beams=5,\n",
    "                max_length=256,\n",
    "                min_length=1,\n",
    "                top_p=0.9,\n",
    "                repetition_penalty=1.5,\n",
    "                length_penalty=1.0,\n",
    "                temperature=1,\n",
    "            )\n",
    "            generated_text = processor.batch_decode(outputs, skip_special_tokens=True)[0].strip()\n",
    "            # print(generated_text)\n",
    "            ansFile.write(f\"{prompt} Answer: {image_ans[count]}. Output: {generated_text}\\n\")\n",
    "            # ansFile.write(prompt +\" \" + image_ans[count] + \": \" + generated_text+\"\\n\")\n",
    "            count+=1\n",
    "    ansFile.close()"
   ]
  },
  {
   "cell_type": "code",
   "execution_count": null,
   "metadata": {},
   "outputs": [],
   "source": []
  }
 ],
 "metadata": {
  "kernelspec": {
   "display_name": "pytorch-gpu-2.0.1",
   "language": "python",
   "name": "pytorch-gpu-2.0.1"
  },
  "language_info": {
   "codemirror_mode": {
    "name": "ipython",
    "version": 3
   },
   "file_extension": ".py",
   "mimetype": "text/x-python",
   "name": "python",
   "nbconvert_exporter": "python",
   "pygments_lexer": "ipython3",
   "version": "3.11.5"
  }
 },
 "nbformat": 4,
 "nbformat_minor": 4
}
