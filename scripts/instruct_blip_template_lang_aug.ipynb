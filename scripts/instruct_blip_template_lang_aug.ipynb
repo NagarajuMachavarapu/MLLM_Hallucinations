{
 "cells": [
  {
   "cell_type": "code",
   "execution_count": 1,
   "metadata": {},
   "outputs": [
    {
     "name": "stdout",
     "output_type": "stream",
     "text": [
      "Defaulting to user installation because normal site-packages is not writeable\n",
      "Requirement already satisfied: transformers in /home/smalyal2/.local/lib/python3.11/site-packages (4.35.0)\n",
      "Requirement already satisfied: filelock in /home/smalyal2/.local/lib/python3.11/site-packages (from transformers) (3.13.1)\n",
      "Requirement already satisfied: huggingface-hub<1.0,>=0.16.4 in /home/smalyal2/.local/lib/python3.11/site-packages (from transformers) (0.17.3)\n",
      "Requirement already satisfied: numpy>=1.17 in /packages/envs/pytorch-gpu-2.0.1/lib/python3.11/site-packages (from transformers) (1.26.0)\n",
      "Requirement already satisfied: packaging>=20.0 in /packages/envs/pytorch-gpu-2.0.1/lib/python3.11/site-packages (from transformers) (23.1)\n",
      "Requirement already satisfied: pyyaml>=5.1 in /packages/envs/pytorch-gpu-2.0.1/lib/python3.11/site-packages (from transformers) (6.0.1)\n",
      "Requirement already satisfied: regex!=2019.12.17 in /home/smalyal2/.local/lib/python3.11/site-packages (from transformers) (2023.10.3)\n",
      "Requirement already satisfied: requests in /packages/envs/pytorch-gpu-2.0.1/lib/python3.11/site-packages (from transformers) (2.31.0)\n",
      "Requirement already satisfied: tokenizers<0.15,>=0.14 in /home/smalyal2/.local/lib/python3.11/site-packages (from transformers) (0.14.1)\n",
      "Requirement already satisfied: safetensors>=0.3.1 in /home/smalyal2/.local/lib/python3.11/site-packages (from transformers) (0.4.0)\n",
      "Requirement already satisfied: tqdm>=4.27 in /home/smalyal2/.local/lib/python3.11/site-packages (from transformers) (4.66.1)\n",
      "Requirement already satisfied: fsspec in /packages/envs/pytorch-gpu-2.0.1/lib/python3.11/site-packages (from huggingface-hub<1.0,>=0.16.4->transformers) (2023.9.2)\n",
      "Requirement already satisfied: typing-extensions>=3.7.4.3 in /packages/envs/pytorch-gpu-2.0.1/lib/python3.11/site-packages (from huggingface-hub<1.0,>=0.16.4->transformers) (4.8.0)\n",
      "Requirement already satisfied: charset-normalizer<4,>=2 in /packages/envs/pytorch-gpu-2.0.1/lib/python3.11/site-packages (from requests->transformers) (3.2.0)\n",
      "Requirement already satisfied: idna<4,>=2.5 in /packages/envs/pytorch-gpu-2.0.1/lib/python3.11/site-packages (from requests->transformers) (3.4)\n",
      "Requirement already satisfied: urllib3<3,>=1.21.1 in /packages/envs/pytorch-gpu-2.0.1/lib/python3.11/site-packages (from requests->transformers) (2.0.5)\n",
      "Requirement already satisfied: certifi>=2017.4.17 in /packages/envs/pytorch-gpu-2.0.1/lib/python3.11/site-packages (from requests->transformers) (2023.7.22)\n",
      "Note: you may need to restart the kernel to use updated packages.\n"
     ]
    }
   ],
   "source": [
    "pip install transformers"
   ]
  },
  {
   "cell_type": "code",
   "execution_count": 2,
   "metadata": {},
   "outputs": [
    {
     "name": "stdout",
     "output_type": "stream",
     "text": [
      "Defaulting to user installation because normal site-packages is not writeable\n",
      "Requirement already satisfied: tqdm in /home/smalyal2/.local/lib/python3.11/site-packages (4.66.1)\n",
      "Note: you may need to restart the kernel to use updated packages.\n"
     ]
    }
   ],
   "source": [
    "pip install tqdm"
   ]
  },
  {
   "cell_type": "code",
   "execution_count": 3,
   "metadata": {},
   "outputs": [],
   "source": [
    "import torch\n",
    "import json\n",
    "from PIL import Image\n",
    "import requests\n",
    "from tqdm import tqdm\n",
    "from transformers import InstructBlipProcessor, InstructBlipForConditionalGeneration"
   ]
  },
  {
   "cell_type": "code",
   "execution_count": 4,
   "metadata": {},
   "outputs": [
    {
     "data": {
      "application/vnd.jupyter.widget-view+json": {
       "model_id": "8092a41c0e494eb7ad4dbde3c2a3c6c8",
       "version_major": 2,
       "version_minor": 0
      },
      "text/plain": [
       "Loading checkpoint shards:   0%|          | 0/4 [00:00<?, ?it/s]"
      ]
     },
     "metadata": {},
     "output_type": "display_data"
    }
   ],
   "source": [
    "model = InstructBlipForConditionalGeneration.from_pretrained(\"Salesforce/instructblip-vicuna-7b\")"
   ]
  },
  {
   "cell_type": "code",
   "execution_count": 5,
   "metadata": {},
   "outputs": [
    {
     "name": "stdout",
     "output_type": "stream",
     "text": [
      "cuda\n"
     ]
    }
   ],
   "source": [
    "device = \"cuda\" if torch.cuda.is_available() else \"cpu\"\n",
    "model.to(device)\n",
    "print(device)"
   ]
  },
  {
   "cell_type": "code",
   "execution_count": 6,
   "metadata": {},
   "outputs": [],
   "source": [
    "processor = InstructBlipProcessor.from_pretrained(\"Salesforce/instructblip-vicuna-7b\")"
   ]
  },
  {
   "cell_type": "code",
   "execution_count": 12,
   "metadata": {
    "scrolled": true
   },
   "outputs": [],
   "source": [
    "imagesPath = \"/home/smalyal2/CLEVR_v1.0/images/val/\"\n",
    "quesDirectory = \"/scratch/smalyal2/MLLM_Hallucinations/CLEVR_v1/datasetSplits/\"\n",
    "\n",
    "#jsonFile = open(quesPath, 'r')\n",
    "#questions  = json.load(jsonFile)"
   ]
  },
  {
   "cell_type": "code",
   "execution_count": null,
   "metadata": {},
   "outputs": [
    {
     "name": "stdout",
     "output_type": "stream",
     "text": [
      "val_images_objectsNum5_orig.json\n"
     ]
    }
   ],
   "source": [
    "import os\n",
    "\n",
    "# Open the JSON file and process each line\n",
    "outputFileDirectory = \"/scratch/smalyal2/MLLM_Hallucinations/CLEVR_v1/answers/val/language_augmentation/\"\n",
    "\n",
    "for filename in os.listdir(quesDirectory):\n",
    "    if filename.endswith('.json'):\n",
    "        file_path = os.path.join(quesDirectory, filename)\n",
    "        print(filename)\n",
    "        with open(file_path, 'r') as jsonFile, open(f'{outputFileDirectory}{filename[:-4]}_results.json', 'a') as resultFile:\n",
    "            for line in jsonFile.readlines()[:100]:\n",
    "                entry = json.loads(line)\n",
    "                img_name = entry[\"image_name\"]\n",
    "                image_ques = entry[\"questions\"]\n",
    "        \n",
    "                ansList = []  # List to store results for each question\n",
    "        \n",
    "                for q in image_ques:\n",
    "                    img = Image.open(imagesPath + img_name).convert(\"RGB\")\n",
    "                    inputs = processor(images=img, text=q[\"question\"], return_tensors=\"pt\").to(device)\n",
    "                    outputs = model.generate(\n",
    "                        **inputs,\n",
    "                        do_sample=False,\n",
    "                        num_beams=5,\n",
    "                        max_length=256,\n",
    "                        min_length=1,\n",
    "                        top_p=0.9,\n",
    "                        repetition_penalty=1.5,\n",
    "                        length_penalty=1.0,\n",
    "                        temperature=1,\n",
    "                    )\n",
    "                    generated_text = processor.batch_decode(outputs, skip_special_tokens=True)[0].strip()\n",
    "        \n",
    "                    # Append results for each question to the file\n",
    "                    ansList.append({\n",
    "                        \"question\": q[\"question\"],\n",
    "                        \"answer\": q[\"answer\"],\n",
    "                        \"generated_output\": generated_text\n",
    "                    })\n",
    "        \n",
    "                # Append results for each image to the file\n",
    "                json.dump({\n",
    "                    \"image_name\": img_name,\n",
    "                    \"answers\": ansList\n",
    "                }, resultFile, indent=2)\n",
    "                resultFile.write('\\n')  # Add a newline for better readability"
   ]
  },
  {
   "cell_type": "code",
   "execution_count": 7,
   "metadata": {},
   "outputs": [
    {
     "name": "stderr",
     "output_type": "stream",
     "text": [
      "0it [00:00, ?it/s]\n",
      "0it [00:00, ?it/s]\n",
      "100%|██████████| 100/100 [23:19<00:00, 14.00s/it]\n",
      "100%|██████████| 100/100 [20:38<00:00, 12.38s/it]\n",
      "100%|██████████| 100/100 [20:35<00:00, 12.35s/it]\n",
      "100%|██████████| 100/100 [21:10<00:00, 12.71s/it]\n",
      "100%|██████████| 100/100 [20:21<00:00, 12.22s/it]\n",
      "100%|██████████| 100/100 [18:04<00:00, 10.84s/it]\n",
      "100%|██████████| 100/100 [21:03<00:00, 12.64s/it]\n",
      "100%|██████████| 100/100 [19:55<00:00, 11.96s/it]\n"
     ]
    }
   ],
   "source": [
    "# for i in range(1,11):\n",
    "    img_file = open(f\"/home/averma90/CSE576/github/MLLM_Hallucinations/CLEVR_v1/datasetSplits/val_images_objectsNum{i}.txt\", \"r\") \n",
    "    img_names = img_file.readlines()\n",
    "    \n",
    "    ansFile = open(f\"/home/averma90/CSE576/github/CLEVR_v1.0/answers/val/num_{i}.txt\", \"a\")\n",
    "    \n",
    "    for img_name in tqdm(img_names[:100]):\n",
    "        image_ques = []\n",
    "        image_ans = []\n",
    "        count = 0\n",
    "        img = Image.open(imagesPath+img_name[:-1]).convert(\"RGB\")\n",
    "        for q in questions[\"questions\"]:\n",
    "            if q[\"image_filename\"] == img_name[:-1]:\n",
    "                image_ques.append(q[\"question\"])\n",
    "                image_ans.append(q[\"answer\"])\n",
    "        for iqs in image_ques:\n",
    "            prompt=iqs\n",
    "            inputs = processor(images=img, text=prompt, return_tensors=\"pt\").to(device)\n",
    "            outputs = model.generate(\n",
    "                **inputs,\n",
    "                do_sample=False,\n",
    "                num_beams=5,\n",
    "                max_length=256,\n",
    "                min_length=1,\n",
    "                top_p=0.9,\n",
    "                repetition_penalty=1.5,\n",
    "                length_penalty=1.0,\n",
    "                temperature=1,\n",
    "            )\n",
    "            generated_text = processor.batch_decode(outputs, skip_special_tokens=True)[0].strip()\n",
    "            # print(generated_text)\n",
    "            ansFile.write(f\"{prompt} Answer: {image_ans[count]}. Output: {generated_text}\\n\")\n",
    "            # ansFile.write(prompt +\" \" + image_ans[count] + \": \" + generated_text+\"\\n\")\n",
    "            count+=1\n",
    "    ansFile.close()"
   ]
  },
  {
   "cell_type": "code",
   "execution_count": null,
   "metadata": {},
   "outputs": [],
   "source": []
  }
 ],
 "metadata": {
  "kernelspec": {
   "display_name": "pytorch-gpu-2.0.1",
   "language": "python",
   "name": "pytorch-gpu-2.0.1"
  },
  "language_info": {
   "codemirror_mode": {
    "name": "ipython",
    "version": 3
   },
   "file_extension": ".py",
   "mimetype": "text/x-python",
   "name": "python",
   "nbconvert_exporter": "python",
   "pygments_lexer": "ipython3",
   "version": "3.11.5"
  }
 },
 "nbformat": 4,
 "nbformat_minor": 4
}
